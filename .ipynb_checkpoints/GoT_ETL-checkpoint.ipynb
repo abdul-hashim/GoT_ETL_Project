{
 "cells": [
  {
   "cell_type": "code",
   "execution_count": null,
   "metadata": {},
   "outputs": [],
   "source": [
    "import csv\n",
    "import pandas as pd"
   ]
  },
  {
   "cell_type": "code",
   "execution_count": null,
   "metadata": {},
   "outputs": [],
   "source": [
    "df1_battles = pd.read_csv(\"Raw Datasets/battles.csv\")\n",
    "df2_character_deaths = pd.read_csv(\"Raw Datasets/character-deaths.csv\")\n",
    "df3_character_predictions = pd.read_csv(\"Raw Datasets/character-predictions.csv\")"
   ]
  },
  {
   "cell_type": "markdown",
   "metadata": {},
   "source": [
    "## Table 1 - Members of each House"
   ]
  },
  {
   "cell_type": "code",
   "execution_count": null,
   "metadata": {},
   "outputs": [],
   "source": [
    "# Change column 'Name' of df2_character_deaths to 'name' so that we can merge df2 and df3\n",
    "df2_character_deaths = df2_character_deaths.rename(columns={\"Name\": \"name\"})\n",
    "\n",
    "# Merge tables on character names\n",
    "merged_table = pd.merge(df2_character_deaths, df3_character_predictions, on=\"name\", how=\"outer\")\n",
    "\n",
    "# Drop duplicate values\n",
    "merged_table.drop_duplicates('name')\n",
    "\n",
    "# Display merged table \n",
    "merged_table"
   ]
  },
  {
   "cell_type": "code",
   "execution_count": null,
   "metadata": {},
   "outputs": [],
   "source": [
    "# Group the table by the different Houses and list those characters that belong to the specific house\n",
    "Houses = merged_table.groupby([\"Allegiances\", 'name'])[\"name\"].unique()\n",
    "\n",
    "# Convert to DataFrame\n",
    "df = pd.DataFrame(Houses)\n",
    "df.columns = [\"X\"]\n",
    "df.reset_index(level=[0,1], inplace=True)\n",
    "\n",
    "# Drop the \"X\" column\n",
    "df.drop(\"X\", axis=1, inplace = True)"
   ]
  },
  {
   "cell_type": "code",
   "execution_count": null,
   "metadata": {},
   "outputs": [],
   "source": [
    "df.head()"
   ]
  },
  {
   "cell_type": "markdown",
   "metadata": {},
   "source": [
    "## Table 2 - Find win/loss ratio per each House"
   ]
  },
  {
   "cell_type": "code",
   "execution_count": null,
   "metadata": {},
   "outputs": [],
   "source": [
    "df1_battles.dtypes\n",
    "\n",
    "df1_battles"
   ]
  },
  {
   "cell_type": "code",
   "execution_count": null,
   "metadata": {},
   "outputs": [],
   "source": [
    "# Determine the number of battles that the attacker was the winner. \n",
    "\n",
    "lannisters_win_count = 0\n",
    "stark_win_count = 0\n",
    "greyjoy_win_count = 0\n",
    "bolton_win_count = 0\n",
    "baratheon_win_count = 0\n",
    "darry_win_count = 0\n",
    "frey_win_count = 0\n",
    "free_folk_win_count = 0\n",
    "brave_Companions_win_count = 0\n",
    "brotherhood_without_Banners = 0\n",
    "bracken_win_count = 0\n",
    "\n",
    "for index, row in df1_battles.iterrows():\n",
    "    if row['attacker_1'] == \"Lannister\" and row['attacker_outcome'] == 'win':\n",
    "        lannisters_win_count += 1\n",
    "    elif row['attacker_1'] == \"Stark\" and row['attacker_outcome'] == 'win':\n",
    "        stark_win_count += 1\n",
    "    elif row['attacker_1'] == \"Greyjoy\" and row['attacker_outcome'] == 'win':\n",
    "        greyjoy_win_count += 1\n",
    "    elif row['attacker_1'] == \"Bolton\" and row['attacker_outcome'] == 'win':\n",
    "        bolton_win_count += 1\n",
    "    elif row['attacker_1'] == \"Baratheon\" and row['attacker_outcome'] == 'win':\n",
    "        baratheon_win_count += 1\n",
    "    elif row['attacker_1'] == \"Darry\" and row['attacker_outcome'] == 'win':\n",
    "        darry_win_count += 1\n",
    "    elif row['attacker_1'] == \"Brotherhood without Banners\" and row['attacker_outcome'] == 'win':\n",
    "        brotherhood_without_Banners += 1\n",
    "    elif row['attacker_1'] == \"Frey\" and row['attacker_outcome'] == 'win':\n",
    "        frey_win_count += 1\n",
    "    elif row['attacker_1'] == \"Free folk\" and row['attacker_outcome'] == 'win':\n",
    "        free_folk_win_count += 1\n",
    "    elif row['attacker_1'] == \"Brave Companions\" and row['attacker_outcome'] == 'win':\n",
    "        brave_Companions_win_count += 1\n",
    "    else:\n",
    "        bracken_win_count += 1"
   ]
  },
  {
   "cell_type": "code",
   "execution_count": null,
   "metadata": {},
   "outputs": [],
   "source": [
    "# Determine the number of battles each house has been the primary attacker\n",
    "\n",
    "l_total_battles = 0 \n",
    "s_total_battles = 0 \n",
    "g_total_battles = 0 \n",
    "bolt_total_battles = 0 \n",
    "bara_total_battles = 0 \n",
    "darry_total_battles = 0 \n",
    "frey_total_battles = 0 \n",
    "free_total_battles = 0 \n",
    "brave_total_battles = 0 \n",
    "brother_total_battles = 0 \n",
    "bracken_total_battles = 0 \n",
    "\n",
    "for index, row in df1_battles.iterrows():\n",
    "    if row['attacker_1'] == \"Lannister\":\n",
    "        l_total_battles+= 1\n",
    "    elif row['attacker_1'] == \"Stark\":\n",
    "        s_total_battles += 1\n",
    "    elif row['attacker_1'] == \"Greyjoy\":\n",
    "        g_total_battles += 1\n",
    "    elif row['attacker_1'] == \"Bolton\":\n",
    "         bolt_total_battles+= 1\n",
    "    elif row['attacker_1'] == \"Baratheon\":\n",
    "        bara_total_battles += 1\n",
    "    elif row['attacker_1'] == \"Darry\":\n",
    "        darry_total_battles += 1\n",
    "    elif row['attacker_1'] == \"Brotherhood without Banners\":\n",
    "        brother_total_battles += 1\n",
    "    elif row['attacker_1'] == \"Frey\":\n",
    "        frey_total_battles += 1\n",
    "    elif row['attacker_1'] == \"Free folk\":\n",
    "        free_total_battles += 1\n",
    "    elif row['attacker_1'] == \"Brave Companions\":\n",
    "        brave_total_battles += 1\n",
    "    else:\n",
    "        bracken_total_battles += 1"
   ]
  },
  {
   "cell_type": "code",
   "execution_count": null,
   "metadata": {},
   "outputs": [],
   "source": [
    "# Calculate Win Ratio for each House\n",
    "\n",
    "lannister_ratio = lannisters_win_count / l_total_battles\n",
    "stark_ratio =  stark_win_count / s_total_battles\n",
    "greyjoy_ratio = greyjoy_win_count / g_total_battles\n",
    "bolton_ratio = bolton_win_count / bolt_total_battles\n",
    "baratheon_ratio = baratheon_win_count / bara_total_battles\n",
    "darry_ratio = darry_win_count / darry_total_battles\n",
    "brother_ratio = brotherhood_without_Banners / brother_total_battles\n",
    "frey_ratio = frey_win_count / frey_total_battles\n",
    "free_folk_ratio = free_folk_win_count / free_total_battles\n",
    "brave_ratio = brave_Companions_win_count / brave_total_battles\n",
    "bracken_ratio = bracken_win_count / bracken_total_battles"
   ]
  },
  {
   "cell_type": "code",
   "execution_count": null,
   "metadata": {},
   "outputs": [],
   "source": [
    "# Create a dataframe that includes the number of battles that each has started and their win ratio in these battles. \n",
    "\n",
    "ratios_df = pd.DataFrame({\"House\": ['Lannister', 'Stark', 'Greyjoy', 'Bolton', 'Baratheon', 'Darry', 'Brotherhood W/O Banners',\n",
    "                                    'Frey', 'Free Folk', 'Brave Companions', 'Bracken'],\"Total Battles\": [l_total_battles, s_total_battles,\n",
    "                                                                                                          g_total_battles, bolt_total_battles, bara_total_battles, darry_total_battles, brother_total_battles, frey_total_battles, free_total_battles, brave_total_battles, bracken_total_battles],\n",
    "                           'Win Ratio': [lannister_ratio, stark_ratio, greyjoy_ratio, bolton_ratio, baratheon_ratio, \n",
    "                                        darry_ratio, brother_ratio, frey_ratio, free_folk_ratio, brave_ratio, bracken_ratio]})\n",
    "\n",
    "ratios_df"
   ]
  },
  {
   "cell_type": "code",
   "execution_count": null,
   "metadata": {},
   "outputs": [],
   "source": []
  }
 ],
 "metadata": {
  "kernelspec": {
   "display_name": "Python (Python-Data-Bootcamp)",
   "language": "python",
   "name": "python-data-bootcamp"
  },
  "language_info": {
   "codemirror_mode": {
    "name": "ipython",
    "version": 3
   },
   "file_extension": ".py",
   "mimetype": "text/x-python",
   "name": "python",
   "nbconvert_exporter": "python",
   "pygments_lexer": "ipython3",
   "version": "3.6.8"
  }
 },
 "nbformat": 4,
 "nbformat_minor": 2
}
